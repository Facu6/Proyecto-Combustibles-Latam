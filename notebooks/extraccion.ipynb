{
 "cells": [
  {
   "cell_type": "code",
   "execution_count": 6,
   "id": "9aabfe86",
   "metadata": {},
   "outputs": [],
   "source": [
    "import requests, os, sys\n",
    "import pandas as pd\n",
    "\n",
    "# Agrega la raíz del proyecto al sys.path para buscar \"config/config.py\"\n",
    "sys.path.append(os.path.abspath(os.path.join(os.getcwd(), '..')))\n",
    "from config.config import AR_DATASET_URL, AR_DATASET_RAW_PATH\n"
   ]
  },
  {
   "cell_type": "markdown",
   "id": "ff567445",
   "metadata": {},
   "source": [
    "### ARGENTINA\n"
   ]
  },
  {
   "cell_type": "code",
   "execution_count": 8,
   "id": "936df3b1",
   "metadata": {},
   "outputs": [
    {
     "name": "stdout",
     "output_type": "stream",
     "text": [
      "[INFO] Archivo descargado correctamente en data/raw\\preciosArgentina.csv\n"
     ]
    }
   ],
   "source": [
    "# Extraer datos Argentina\n",
    "url_datasetArgentina = 'http://datos.energia.gob.ar/dataset/1c181390-5045-475e-94dc-410429be4b17/resource/80ac25de-a44a-4445-9215-090cf55cfda5/download/precios-en-surtidor-resolucin-3142016.csv'\n",
    "output_folder = 'data/raw'\n",
    "os.makedirs(output_folder, exist_ok=True)\n",
    "\n",
    "# Definir nombre archivo\n",
    "output_file = os.path.join(output_folder, 'preciosArgentina.csv')\n",
    "\n",
    "# Descargar archivo\n",
    "response = requests.get(url_datasetArgentina)\n",
    "if response.status_code == 200:\n",
    "    with open(output_file, 'wb') as file:\n",
    "        file.write(response.content)\n",
    "    print(f'[INFO] Archivo descargado correctamente en {output_file}')\n",
    "else:\n",
    "    print(f'[ERROR] Error al descargar archivo: {response.status_code}')"
   ]
  },
  {
   "cell_type": "code",
   "execution_count": 9,
   "id": "678e2947",
   "metadata": {},
   "outputs": [],
   "source": [
    "# Leer datos\n",
    "datos_rutaArgentina = r'C:\\Users\\dispe\\OneDrive\\Documentos\\CLASES\\Proyecto Precios Combustibles Latam\\Proyecto-Combustibles-Latam\\notebooks\\data\\raw\\preciosArgentina.csv'\n",
    "datos_dfArgentina = pd.read_csv(datos_rutaArgentina)\n"
   ]
  },
  {
   "cell_type": "markdown",
   "id": "61ae605c",
   "metadata": {},
   "source": [
    "### URUGUAY"
   ]
  },
  {
   "cell_type": "code",
   "execution_count": 1,
   "id": "5fb08fc5",
   "metadata": {},
   "outputs": [],
   "source": [
    "import requests, os, sys\n",
    "import pandas as pd\n",
    "from bs4 import BeautifulSoup\n",
    "from io import StringIO\n",
    "\n",
    "# Agrega la raíz del proyecto al sys.path para buscar \"config/config.py\"\n",
    "sys.path.append(os.path.abspath(os.path.join(os.getcwd(), '..')))\n",
    "from config.config import UR_DATASET_URL, UR_DATASET_RAW_PATH"
   ]
  },
  {
   "cell_type": "code",
   "execution_count": 2,
   "id": "a7e21202",
   "metadata": {},
   "outputs": [],
   "source": [
    "def extraer_datos_Uruguay(url:str, destino:str):\n",
    "    \n",
    "    try:\n",
    "        response = requests.get(url)\n",
    "        response.raise_for_status()\n",
    "        \n",
    "        soup = BeautifulSoup(response.content, 'html.parser')\n",
    "        \n",
    "        # Encontrar tabla con clase \"texto\" y estilo exacto\n",
    "        tabla = soup.find('table', class_='texto', style='width: 101.595%;')\n",
    "        \n",
    "        if tabla is None:\n",
    "            raise ValueError('No se encontró la tabla con los atributos especificados en el HTML.')\n",
    "        \n",
    "        # Convertir a DataFrame\n",
    "        df = pd.read_html(StringIO(tabla.prettify()))[0]\n",
    "        \n",
    "        # Guardar\n",
    "        os.makedirs(os.path.dirname(destino), exist_ok=True) \n",
    "        df.to_csv(destino, index=False)\n",
    "        print(f'[INFO] Datos de Uruguay guardados con éxito en: {destino}')\n",
    "    \n",
    "    except Exception as e:\n",
    "        print(f'[ERROR] No se pudo descargar los datos de Uruguay: {e}')"
   ]
  },
  {
   "cell_type": "code",
   "execution_count": 3,
   "id": "2dfb0ead",
   "metadata": {},
   "outputs": [
    {
     "name": "stdout",
     "output_type": "stream",
     "text": [
      "[INFO] Datos de Uruguay guardados con éxito en: data/raw\\preciosUruguay.csv\n"
     ]
    }
   ],
   "source": [
    "datos_dfUruguay = extraer_datos_Uruguay(UR_DATASET_URL, UR_DATASET_RAW_PATH)"
   ]
  },
  {
   "cell_type": "code",
   "execution_count": 6,
   "id": "851d8c44",
   "metadata": {},
   "outputs": [],
   "source": [
    "datos_dfUruguay = pd.read_csv(r'C:\\Users\\dispe\\OneDrive\\Documentos\\CLASES\\Proyecto Precios Combustibles Latam\\Proyecto-Combustibles-Latam\\notebooks\\data\\raw\\preciosUruguay.csv')"
   ]
  },
  {
   "cell_type": "markdown",
   "id": "c1c54a9b",
   "metadata": {},
   "source": [
    "\n",
    "### CHILE"
   ]
  },
  {
   "cell_type": "code",
   "execution_count": 5,
   "id": "cf0752c0",
   "metadata": {},
   "outputs": [],
   "source": [
    "import sys, os, requests\n",
    "# Agrega la raíz del proyecto al sys.path para buscar \"config/config.py\"\n",
    "sys.path.append(os.path.abspath(os.path.join(os.getcwd(), '..')))\n",
    "from config.config import PE_DATASET_URL, PE_DATASET_RAW_PATH"
   ]
  },
  {
   "cell_type": "code",
   "execution_count": 3,
   "id": "5097448e",
   "metadata": {},
   "outputs": [],
   "source": [
    "def extraer_datos_Peru(url:str, destino:str):\n",
    "    \n",
    "    try:\n",
    "        print(f'[INFO] Iniciando proceso de extracción de datos de Perú desde: {url}')\n",
    "        response = requests.get(url)\n",
    "        response.raise_for_status()\n",
    "        \n",
    "        # Crear directorio si no existe\n",
    "        os.makedirs(os.path.dirname(destino), exist_ok=True)\n",
    "        \n",
    "        # Guardar el archivo\n",
    "        with open(destino, 'wb') as file:\n",
    "            file.write(response.content)\n",
    "        print(f'[INFO] Datos de Perú guardados con éxito en: {destino}')\n",
    "        \n",
    "    except requests.exceptions.RequestException as e:\n",
    "        print(f'[ERROR] No se pudo descargar los datos de Perú: {e}')\n",
    "        raise"
   ]
  },
  {
   "cell_type": "code",
   "execution_count": 6,
   "id": "c1e516ed",
   "metadata": {},
   "outputs": [
    {
     "name": "stdout",
     "output_type": "stream",
     "text": [
      "[INFO] Iniciando proceso de extracción de datos de Perú desde: https://cdn.www.gob.pe/uploads/document/file/7909845/6659168-reporte-diario-10-04-2025.pdf?v=1744324735\n",
      "[INFO] Datos de Perú guardados con éxito en: data/raw\\preciosPeru.pdf\n"
     ]
    }
   ],
   "source": [
    "extraer_datos_Peru(PE_DATASET_URL, PE_DATASET_RAW_PATH)"
   ]
  }
 ],
 "metadata": {
  "kernelspec": {
   "display_name": "combustibles_venv",
   "language": "python",
   "name": "python3"
  },
  "language_info": {
   "codemirror_mode": {
    "name": "ipython",
    "version": 3
   },
   "file_extension": ".py",
   "mimetype": "text/x-python",
   "name": "python",
   "nbconvert_exporter": "python",
   "pygments_lexer": "ipython3",
   "version": "3.10.2"
  }
 },
 "nbformat": 4,
 "nbformat_minor": 5
}
